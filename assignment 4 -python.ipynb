{
 "cells": [
  {
   "cell_type": "code",
   "execution_count": 2,
   "metadata": {},
   "outputs": [
    {
     "name": "stdout",
     "output_type": "stream",
     "text": [
      "True\n"
     ]
    }
   ],
   "source": [
    "## Write a Python function which takes a character (i.e. a string of length 1) and returns True if\n",
    "## it is a vowel, False otherwise.\n",
    "\n",
    "def vowel(ch):\n",
    "    vowels = ['a','e','i','o','u']\n",
    "    if(ch in vowels):\n",
    "        return True\n",
    "    else:\n",
    "        return False\n",
    "\n",
    "print(vowel('a'))\n"
   ]
  },
  {
   "cell_type": "code",
   "execution_count": 5,
   "metadata": {},
   "outputs": [
    {
     "name": "stdout",
     "output_type": "stream",
     "text": [
      "[2, 3, 4]\n"
     ]
    }
   ],
   "source": [
    "## Write a Python program using function concept that maps list of words into a list of integers\n",
    "## representing the lengths of the corresponding words.\n",
    "\n",
    "def func(lst):\n",
    "    for i in range(len(lst)):\n",
    "        lst[i]=len(lst[i])\n",
    "    return lst\n",
    "\n",
    "print(func([\"ab\",\"cde\",\"erty\"]))\n",
    "        "
   ]
  },
  {
   "cell_type": "code",
   "execution_count": 12,
   "metadata": {},
   "outputs": [
    {
     "name": "stdout",
     "output_type": "stream",
     "text": [
      "['gireesh', 'lamborghini', 'bentley']\n"
     ]
    }
   ],
   "source": [
    "## Write a function filter_long_words() that takes a list of words and an integer n and returns\n",
    "## the list of words that are longer than n.\n",
    "\n",
    "def filter_long_words(lst,n):\n",
    "    word = []\n",
    "    for ele in lst:\n",
    "        if(len(ele)>n):\n",
    "            word.append(ele)\n",
    "    return word\n",
    "\n",
    "print(filter_long_words([\"gireesh\",\"audi\",\"lamborghini\",\"bentley\"],4))\n",
    "\n",
    "\n",
    " def filter_long(lst,n):\n",
    "    return list(filter(lambda ele:len(ele)>n,lst))\n",
    "\n",
    " print(filter_long([\"gireesh\",\"guna\",\"nitiin\",'satwik'],4))"
   ]
  },
  {
   "cell_type": "code",
   "execution_count": 36,
   "metadata": {},
   "outputs": [],
   "source": [
    "## Write a Python Program(with class concepts) to find the area of the triangle using the below\n",
    "## formula.\n",
    "## area = (s*(s-a)*(s-b)*(s-c)) ** 0.5\n",
    "## Function to take the length of the sides of triangle from user should be defined in the parent\n",
    "## class and function to calculate the area should be defined in subclass.\n",
    "\n",
    "\n",
    "class Triangle:\n",
    "    def __init__(self):\n",
    "        num_sides = [1,2,3]\n",
    "        self.sides = num_sides\n",
    "        \n",
    "    def sides_triangle(self):\n",
    "        self.vlaues_of_triangle  = [input(\"enter values\" + str(i) +\":\") for i in self.sides]\n",
    "        \n",
    "        \n",
    "class area(Triangle):\n",
    "    \n",
    "    def area_traingle(self):\n",
    "        triangleSides=iter(self.vlaues_of_triangle)\n",
    "        a=float(next(triangleSides))\n",
    "        b=float(next(triangleSides))\n",
    "        c=float(next(triangleSides))  \n",
    "        s= (a+b+c)*0.5\n",
    "        Area = (s*(s-a)*(s-b)*(s-c))**0.5 \n",
    "        print(Area)"
   ]
  },
  {
   "cell_type": "code",
   "execution_count": 37,
   "metadata": {},
   "outputs": [],
   "source": [
    "Area_of_triangle = area()\n"
   ]
  },
  {
   "cell_type": "code",
   "execution_count": 38,
   "metadata": {},
   "outputs": [
    {
     "name": "stdout",
     "output_type": "stream",
     "text": [
      "enter values1:35\n",
      "enter values2:24\n",
      "enter values3:26\n"
     ]
    }
   ],
   "source": [
    "Area_of_triangle.sides_triangle()"
   ]
  },
  {
   "cell_type": "code",
   "execution_count": 40,
   "metadata": {},
   "outputs": [
    {
     "name": "stdout",
     "output_type": "stream",
     "text": [
      "311.9269746270752\n"
     ]
    }
   ],
   "source": [
    "Area_of_triangle.area_traingle()"
   ]
  },
  {
   "cell_type": "code",
   "execution_count": null,
   "metadata": {},
   "outputs": [],
   "source": []
  }
 ],
 "metadata": {
  "kernelspec": {
   "display_name": "Python 3",
   "language": "python",
   "name": "python3"
  },
  "language_info": {
   "codemirror_mode": {
    "name": "ipython",
    "version": 3
   },
   "file_extension": ".py",
   "mimetype": "text/x-python",
   "name": "python",
   "nbconvert_exporter": "python",
   "pygments_lexer": "ipython3",
   "version": "3.6.5"
  }
 },
 "nbformat": 4,
 "nbformat_minor": 2
}
