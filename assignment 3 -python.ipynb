{
 "cells": [
  {
   "cell_type": "code",
   "execution_count": 12,
   "metadata": {},
   "outputs": [
    {
     "name": "stdout",
     "output_type": "stream",
     "text": [
      "24\n"
     ]
    }
   ],
   "source": [
    "## Write a Python Program to implement your own myreduce() function which works exactly\n",
    "## like Python's built-in function reduce()\n",
    "\n",
    "# from functools import reduce\n",
    "\n",
    "# lst = [1,2,3,4]\n",
    "# ans = reduce(lambda x,y: x*y,lst)\n",
    "# print(ans)\n",
    "\n",
    "def myreduce(lst):\n",
    "    product = 1\n",
    "    for i in range(len(lst)):\n",
    "        product *= lst[i]\n",
    "    return product\n",
    "print(myreduce([1,2,3,4]))"
   ]
  },
  {
   "cell_type": "code",
   "execution_count": 15,
   "metadata": {},
   "outputs": [
    {
     "name": "stdout",
     "output_type": "stream",
     "text": [
      "[4, 88, 34, 2, 36, 56]\n"
     ]
    }
   ],
   "source": [
    "## Write a Python program to implement your own myfilter() function which works exactly\n",
    "## like Python's built-in function filter()\n",
    "\n",
    "# lst = [3,4,5,7,88,34,11,45,2,36,56]\n",
    "# even_numbers = list(filter(lambda x : x%2 == 0,lst))\n",
    "# print(even_numbers)\n",
    "\n",
    "def myfilter(lst):\n",
    "    even_numbers = []\n",
    "    for ele in lst:\n",
    "        if (ele%2==0):\n",
    "            even_numbers.append(ele)\n",
    "    return even_numbers\n",
    "print(myfilter([3,4,5,7,88,34,11,45,2,36,56]))"
   ]
  },
  {
   "cell_type": "code",
   "execution_count": 27,
   "metadata": {},
   "outputs": [
    {
     "name": "stdout",
     "output_type": "stream",
     "text": [
      "['x', 'xx', 'xxx', 'xxxx', 'y', 'yy', 'yyy', 'yyyy', 'z', 'zz', 'zzz', 'zzzz']\n",
      "['x', 'y', 'z', 'xx', 'yy', 'zz', 'xxx', 'yyy', 'zzz', 'xxxx', 'yyyy', 'zzzz']\n",
      "[(1, 1), (2, 1), (3, 1), (1, 2), (2, 2), (3, 2), (1, 3), (2, 3), (3, 3)]\n",
      "[[2], [3], [4], [3], [4], [5], [4], [5], [6]]\n"
     ]
    },
    {
     "data": {
      "text/plain": [
       "[[2, 3, 4, 5], [3, 4, 5, 6], [4, 5, 6, 7], [5, 6, 7, 8]]"
      ]
     },
     "execution_count": 27,
     "metadata": {},
     "output_type": "execute_result"
    }
   ],
   "source": [
    "## Implement List comprehensions to produce the following lists.\n",
    "## Write List comprehensions to produce the following Lists\n",
    "\n",
    "## ['x', 'xx', 'xxx', 'xxxx', 'y', 'yy', 'yyy', 'yyyy', 'z', 'zz', 'zzz', 'zzzz']\n",
    "## ['x', 'y', 'z', 'xx', 'yy', 'zz', 'xxx', 'yyy', 'zzz', 'xxxx', 'yyyy', 'zzzz']\n",
    "## [[2], [3], [4], [3], [4], [5], [4], [5], [6]] [[2, 3, 4, 5], [3, 4, 5, 6],\n",
    "## [4, 5, 6, 7], [5, 6, 7, 8]]\n",
    "## [(1, 1), (2, 1), (3, 1), (1, 2), (2, 2), (3, 2), (1, 3), (2, 3), (3, 3)]\n",
    "\n",
    "word = \"xyz\"\n",
    "w = list(word)\n",
    "output = [ele*i for ele in w for i in range(1,5)]\n",
    "print(output)\n",
    "\n",
    "output_1 = [ele*i for i in range(1,5) for ele in w]\n",
    "print(output_1)\n",
    "\n",
    "num = [1,2,3]\n",
    "output_3 = [(i,ele) for ele in num for i in range(1,4)]\n",
    "print(output_3)\n",
    "\n",
    "numb = [2,3,4]\n",
    "output_4 = [[e+x] for e in numb for x in range(0,3)]\n",
    "print(output_4)\n",
    "\n",
    "number = [2,3,4,5]\n",
    "output_5 = [[e+x for x in range(0,4)]for e in number]\n",
    "output_5"
   ]
  },
  {
   "cell_type": "code",
   "execution_count": null,
   "metadata": {},
   "outputs": [],
   "source": []
  }
 ],
 "metadata": {
  "kernelspec": {
   "display_name": "Python 3",
   "language": "python",
   "name": "python3"
  },
  "language_info": {
   "codemirror_mode": {
    "name": "ipython",
    "version": 3
   },
   "file_extension": ".py",
   "mimetype": "text/x-python",
   "name": "python",
   "nbconvert_exporter": "python",
   "pygments_lexer": "ipython3",
   "version": "3.6.5"
  }
 },
 "nbformat": 4,
 "nbformat_minor": 2
}
