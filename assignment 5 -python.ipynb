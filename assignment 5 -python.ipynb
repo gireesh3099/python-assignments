{
 "cells": [
  {
   "cell_type": "code",
   "execution_count": 3,
   "metadata": {},
   "outputs": [
    {
     "name": "stdout",
     "output_type": "stream",
     "text": [
      "division by zero not possible\n"
     ]
    }
   ],
   "source": [
    "## Write a function to compute 5/0 and use try/except to catch the exceptions.\n",
    "def compute(num1,num2):\n",
    "    try:\n",
    "        result = num1/num2\n",
    "        print(result)\n",
    "    except ZeroDivisionError:\n",
    "        print(\"division by zero not possible\")\n",
    "\n",
    "compute(5,0)\n",
    "        "
   ]
  },
  {
   "cell_type": "code",
   "execution_count": 4,
   "metadata": {},
   "outputs": [
    {
     "name": "stdout",
     "output_type": "stream",
     "text": [
      "Americans Play Baseball \n",
      "Americans Play cricket \n",
      "Americans watch Baseball \n",
      "Americans watch cricket \n",
      "Indians Play Baseball \n",
      "Indians Play cricket \n",
      "Indians watch Baseball \n",
      "Indians watch cricket \n"
     ]
    }
   ],
   "source": [
    "## Implement a Python program to generate all sentences where subject is in\n",
    "## [\"Americans\", \"Indians\"] and verb is in [\"Play\", \"watch\"] and the object is in\n",
    "## [\"Baseball\",\"cricket\"].\n",
    "\n",
    "subject = [\"Americans\", \"Indians\"]\n",
    "verb =  [\"Play\", \"watch\"]\n",
    "object_ = [\"Baseball\",\"cricket\"]\n",
    "for s in subject:\n",
    "    for v in verb:\n",
    "        for obj in object_:\n",
    "            print(\"{} {} {} \".format(s,v,obj))\n",
    "            \n",
    "\n",
    "            \n",
    "## result = [(su + ' ' + ' ' + ve + ' ' + obje) for su in subject for ve in verb for obje in object_]\n",
    "## for sent in result:\n",
    "##    print(sent)"
   ]
  },
  {
   "cell_type": "code",
   "execution_count": null,
   "metadata": {},
   "outputs": [],
   "source": []
  },
  {
   "cell_type": "code",
   "execution_count": null,
   "metadata": {},
   "outputs": [],
   "source": []
  }
 ],
 "metadata": {
  "kernelspec": {
   "display_name": "Python 3",
   "language": "python",
   "name": "python3"
  },
  "language_info": {
   "codemirror_mode": {
    "name": "ipython",
    "version": 3
   },
   "file_extension": ".py",
   "mimetype": "text/x-python",
   "name": "python",
   "nbconvert_exporter": "python",
   "pygments_lexer": "ipython3",
   "version": "3.6.5"
  }
 },
 "nbformat": 4,
 "nbformat_minor": 2
}
