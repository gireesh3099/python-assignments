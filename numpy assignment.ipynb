{
 "cells": [
  {
   "cell_type": "code",
   "execution_count": 1,
   "metadata": {},
   "outputs": [],
   "source": [
    "import numpy as np"
   ]
  },
  {
   "cell_type": "code",
   "execution_count": 19,
   "metadata": {},
   "outputs": [
    {
     "name": "stdout",
     "output_type": "stream",
     "text": [
      "[[  1   1   1   1   1]\n",
      " [  1   2   4   8  16]\n",
      " [  1   3   9  27  81]\n",
      " [  1   4  16  64 256]\n",
      " [  1   5  25 125 625]]\n",
      "******************************\n",
      "[[  1   1   1   1   1]\n",
      " [ 16   8   4   2   1]\n",
      " [ 81  27   9   3   1]\n",
      " [256  64  16   4   1]\n",
      " [625 125  25   5   1]]\n"
     ]
    }
   ],
   "source": [
    "\"\"\"Write a function so that the columns of the output matrix are powers of the input\n",
    "vector.\n",
    "The order of the powers is determined by the increasing boolean argument. Specifically, when\n",
    "increasing is False, the i-th output column is the input vector raised element-wise to the power\n",
    "of N - i - 1.\n",
    "\n",
    "HINT: Such a matrix with a geometric progression in each row is named for Alexandre-\n",
    "Theophile Vandermonde.\"\"\"\n",
    "\n",
    "def vandermode(arr,n,increasing):\n",
    "    if increasing:\n",
    "        arr_op = np.array([x**i for x in arr for i in range(n)]).reshape(-1,n)\n",
    "    else:\n",
    "        arr_op = np.array([x**(n-i-1) for x in arr for i in range(n)]).reshape(-1,n)\n",
    "    \n",
    "    return arr_op\n",
    "\n",
    "arr = np.array([1,2,3,4,5])\n",
    "n=5\n",
    "print(vandermode(arr,n,True))\n",
    "print(\"*\"*30)\n",
    "print(vandermode(arr,n,False))"
   ]
  },
  {
   "cell_type": "code",
   "execution_count": 44,
   "metadata": {},
   "outputs": [
    {
     "name": "stdout",
     "output_type": "stream",
     "text": [
      "moving average values :  [  5.      4.667   5.667   6.667   9.667  28.667  49.333  72.667  84.\n",
      "  93.333 116.333]\n",
      "the moving average sequence has:  11\n",
      "None\n"
     ]
    }
   ],
   "source": [
    "\"\"\"Write a function to find moving average in an array over a window:\n",
    "Test it over [3, 5, 7, 2, 8, 10, 11, 65, 72, 81, 99, 100, 150] and window of 3.\"\"\"\n",
    "\n",
    "\n",
    "\n",
    "def movavg(arr,k):\n",
    "    avg = []\n",
    "    for i in range(len(arr)-k+1):\n",
    "        nu = np.array(arr[i:i+k])\n",
    "        avg.append(np.sum(nu)/k)\n",
    "        avg_sequence = len(arr)-k+1\n",
    "    print(\"moving average values : \",np.round_(avg,decimals=3)) \n",
    "    print(\"the moving average sequence has: \",avg_sequence)\n",
    "\n",
    "arr = np.array([3, 5, 7, 2, 8, 10, 11, 65, 72, 81, 99, 100, 150])\n",
    "k=3\n",
    "print(movavg(arr,k))\n",
    "    "
   ]
  }
 ],
 "metadata": {
  "kernelspec": {
   "display_name": "Python 3",
   "language": "python",
   "name": "python3"
  },
  "language_info": {
   "codemirror_mode": {
    "name": "ipython",
    "version": 3
   },
   "file_extension": ".py",
   "mimetype": "text/x-python",
   "name": "python",
   "nbconvert_exporter": "python",
   "pygments_lexer": "ipython3",
   "version": "3.6.5"
  }
 },
 "nbformat": 4,
 "nbformat_minor": 2
}
